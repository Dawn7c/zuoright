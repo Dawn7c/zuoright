{
 "cells": [
  {
   "cell_type": "markdown",
   "metadata": {},
   "source": [
    "# 1. re.match(pattern, string, [flags])\n",
    "尝试从字符串起始位置匹配一个模式，如果匹配成功则会返回匹配结果，失败则会返回None    \n",
    "#### 三个参数：\n",
    "1. pattern：[正则字符串](http://cuiqingcai.com/977.html)\n",
    "2. string：匹配目标字符串\n",
    "   * 如果目标字符串中有\\字符，建议使用r\"\\\\\"，否则将需要\"\\\\\\\\\"4个反斜杠才能表达\n",
    "3. flags：匹配模式\n",
    "   * re.I：IgnoreCase，忽略大小写\n",
    "   * re.M：Multiline，多行模式\n",
    "   * re.S：Dotall， \".\"可以匹配任意字符，包括换行符\n",
    "   * re.L：Locale，使预定字符类 \\w \\W \\b \\B \\s \\S 取决于当前区域设定\n",
    "   * re.U：Unicode，使预定字符类 \\w \\W \\b \\B \\s \\S \\d \\D 取决于unicode定义的字符属性\n",
    "   * re.X：Verbose，详细模式。这个模式下正则表达式可以是多行，忽略空白字符，并可以加入注释\n",
    "\n",
    "#### 总结：尽量使用泛匹配和非贪婪模式，使用括号得到匹配目标，有换行符就用re.S"
   ]
  },
  {
   "cell_type": "markdown",
   "metadata": {},
   "source": [
    "### 最常规的匹配"
   ]
  },
  {
   "cell_type": "code",
   "execution_count": 11,
   "metadata": {},
   "outputs": [
    {
     "name": "stdout",
     "output_type": "stream",
     "text": [
      "40\n",
      "<_sre.SRE_Match object; span=(0, 40), match='Hello 1234567 World_This is a Regex Demo'>\n",
      "(0, 40)\n",
      "Hello 1234567 World_This is a Regex Demo\n"
     ]
    }
   ],
   "source": [
    "import re\n",
    "\n",
    "content = \"Hello 1234567 World_This is a Regex Demo\"\n",
    "print(len(content))\n",
    "\n",
    "result = re.match(\"^Hello\\s\\d{7}\\s\\w{10}.*Demo$\", content)\n",
    "print(result)\n",
    "\n",
    "# 匹配返回结果的一些方法\n",
    "# 返回匹配范围\n",
    "print(result.span())\n",
    "# 返回匹配字符串\n",
    "print(result.group())"
   ]
  },
  {
   "cell_type": "markdown",
   "metadata": {},
   "source": [
    "### 泛匹配：.*"
   ]
  },
  {
   "cell_type": "code",
   "execution_count": 12,
   "metadata": {},
   "outputs": [
    {
     "name": "stdout",
     "output_type": "stream",
     "text": [
      "<_sre.SRE_Match object; span=(0, 40), match='Hello 1234567 World_This is a Regex Demo'>\n"
     ]
    }
   ],
   "source": [
    "import re\n",
    "\n",
    "content = \"Hello 1234567 World_This is a Regex Demo\"\n",
    "\n",
    "result = re.match(\"^Hello.*Demo$\", content)\n",
    "print(result)"
   ]
  },
  {
   "cell_type": "markdown",
   "metadata": {},
   "source": [
    "### 匹配目标：()"
   ]
  },
  {
   "cell_type": "code",
   "execution_count": 10,
   "metadata": {},
   "outputs": [
    {
     "name": "stdout",
     "output_type": "stream",
     "text": [
      "1234567\n"
     ]
    }
   ],
   "source": [
    "import re\n",
    "\n",
    "content = \"Hello 1234567 World_This is a Regex Demo\"\n",
    "\n",
    "result = re.match(\"^Hello\\s(\\d+)\\sWorld.*Demo$\", content)\n",
    "# 返回第一个分组()内的目标\n",
    "print(result.group(1))"
   ]
  },
  {
   "cell_type": "markdown",
   "metadata": {},
   "source": [
    "### 贪婪匹配"
   ]
  },
  {
   "cell_type": "code",
   "execution_count": 13,
   "metadata": {},
   "outputs": [
    {
     "name": "stdout",
     "output_type": "stream",
     "text": [
      "7\n"
     ]
    }
   ],
   "source": [
    "import re\n",
    "\n",
    "content = \"Hello 1234567 World_This is a Regex Demo\"\n",
    "\n",
    "result = re.match(\"^He.*(\\d+).*Demo$\", content)\n",
    "# He.*将会贪婪匹配到7之前\n",
    "print(result.group(1))"
   ]
  },
  {
   "cell_type": "markdown",
   "metadata": {},
   "source": [
    "### 非贪婪匹配：.*?"
   ]
  },
  {
   "cell_type": "code",
   "execution_count": 3,
   "metadata": {},
   "outputs": [
    {
     "name": "stdout",
     "output_type": "stream",
     "text": [
      "1234567\n"
     ]
    }
   ],
   "source": [
    "import re\n",
    "\n",
    "content = \"Hello 1234567 World_This is a Regex Demo\"\n",
    "\n",
    "result = re.match(\"^He.*?(\\d+).*Demo$\", content)\n",
    "print(result.group(1))"
   ]
  },
  {
   "cell_type": "markdown",
   "metadata": {},
   "source": [
    "### 匹配模式"
   ]
  },
  {
   "cell_type": "code",
   "execution_count": 31,
   "metadata": {},
   "outputs": [
    {
     "name": "stdout",
     "output_type": "stream",
     "text": [
      "Hello 1234567 World_This \n",
      "is a Regex Demo\n"
     ]
    }
   ],
   "source": [
    "import re\n",
    "\n",
    "content = r\"\"\"Hello 1234567 World_This \n",
    "is a Regex Demo\n",
    "\"\"\"\n",
    "result = re.match(\"^He.*?(\\d+).*Demo$\", content, re.S)\n",
    "print(result.group())"
   ]
  },
  {
   "cell_type": "markdown",
   "metadata": {},
   "source": [
    "### 转义"
   ]
  },
  {
   "cell_type": "code",
   "execution_count": 26,
   "metadata": {},
   "outputs": [
    {
     "name": "stdout",
     "output_type": "stream",
     "text": [
      "<_sre.SRE_Match object; span=(0, 14), match='price is $5.00'>\n"
     ]
    }
   ],
   "source": [
    "import re\n",
    "\n",
    "content = \"price is $5.00\"\n",
    "\n",
    "result = re.match(\"price is \\$5.00\", content)\n",
    "print(result.group())"
   ]
  },
  {
   "cell_type": "markdown",
   "metadata": {},
   "source": [
    "# 2. re.search(pattern, string, [flags])\n",
    "扫描整个字符串并返回第一个成功的匹配\n",
    "\n",
    "#### 总结：能使用re.search()方法就用"
   ]
  },
  {
   "cell_type": "markdown",
   "metadata": {},
   "source": [
    "### 演示"
   ]
  },
  {
   "cell_type": "code",
   "execution_count": 55,
   "metadata": {},
   "outputs": [
    {
     "name": "stdout",
     "output_type": "stream",
     "text": [
      "None\n",
      "<_sre.SRE_Match object; span=(13, 53), match='Hello 1234567 World_This is a Regex Demo'>\n",
      "1234567\n"
     ]
    }
   ],
   "source": [
    "import re\n",
    "\n",
    "content = \"Extra string Hello 1234567 World_This is a Regex Demo Extra string\"\n",
    "\n",
    "result1 = re.match(\"Hello.*?(\\d+).*Demo\", content)\n",
    "result2 = re.search(\"Hello.*?(\\d+).*Demo\", content)\n",
    "\n",
    "# re.match与re.search结果的对比\n",
    "print(result1)\n",
    "print(result2)\n",
    "print(result2.group(1))"
   ]
  },
  {
   "cell_type": "markdown",
   "metadata": {},
   "source": [
    "### 匹配练习"
   ]
  },
  {
   "cell_type": "code",
   "execution_count": 18,
   "metadata": {},
   "outputs": [
    {
     "name": "stdout",
     "output_type": "stream",
     "text": [
      "齐秦 往事随风\n",
      "任贤齐 沧海一声笑\n",
      "beyond 光辉岁月\n"
     ]
    }
   ],
   "source": [
    "import re\n",
    "\n",
    "html = \"\"\"<div id=\"songs-list\">\n",
    "    <h2 class=\"title\">经典老歌</h2>\n",
    "    <p class=\"introduction\">\n",
    "        经典老歌列表\n",
    "    </p>\n",
    "    <ul id=\"list\" class=\"list-group\">\n",
    "        <li data-view=\"2\">一路上有你</li>\n",
    "        <li data-view=\"7\">\n",
    "            <a href=\"/2.mp3\" singer=\"任贤齐\">沧海一声笑</a>\n",
    "        </li>\n",
    "        <li data-view=\"4\" class=\"active\">\n",
    "            <a href=\"/3.mp3\" singer=\"齐秦\">往事随风</a>\n",
    "        </li>\n",
    "        <li data-view=\"6\"><a href=\"/4.mp3\" singer=\"beyond\">光辉岁月</a></li>\n",
    "        <li data-view=\"5\"><a href=\"/5.mp3\" singer=\"陈慧琳\">记事本</a></li>\n",
    "        <li data-view=\"5\">\n",
    "            <a href=\"/6.mp3\" singer=\"邓丽君\"><i class=\"fa fa-user\"></i>但愿人长久</a>\n",
    "        </li>\n",
    "    </ul>\n",
    "</div>\"\"\"\n",
    "\n",
    "result1 = re.search('<li.*?active.*?singer=\"(.*?)\">(.*?)</a>', html, re.S)\n",
    "result2 = re.search('<li.*?singer=\"(.*?)\">(.*?)</a>', html, re.S)\n",
    "result3 = re.search('<li.*?singer=\"(.*?)\">(.*?)</a>', html)\n",
    "\n",
    "print(result1.group(1), result1.group(2))\n",
    "print(result2.group(1), result2.group(2))\n",
    "print(result3.group(1), result3.group(2))"
   ]
  },
  {
   "cell_type": "markdown",
   "metadata": {},
   "source": [
    "# 3. re.findall\n",
    "搜索字符串，以列表形式返回全部所有能匹配的子串"
   ]
  },
  {
   "cell_type": "code",
   "execution_count": 19,
   "metadata": {},
   "outputs": [
    {
     "name": "stdout",
     "output_type": "stream",
     "text": [
      "[('/2.mp3', '任贤齐', '沧海一声笑'), ('/3.mp3', '齐秦', '往事随风'), ('/4.mp3', 'beyond', '光辉岁月'), ('/5.mp3', '陈慧琳', '记事本'), ('/6.mp3', '邓丽君', '但愿人长久')]\n",
      "<class 'list'>\n",
      "('/2.mp3', '任贤齐', '沧海一声笑')\n",
      "/2.mp3 任贤齐 沧海一声笑\n",
      "('/3.mp3', '齐秦', '往事随风')\n",
      "/3.mp3 齐秦 往事随风\n",
      "('/4.mp3', 'beyond', '光辉岁月')\n",
      "/4.mp3 beyond 光辉岁月\n",
      "('/5.mp3', '陈慧琳', '记事本')\n",
      "/5.mp3 陈慧琳 记事本\n",
      "('/6.mp3', '邓丽君', '但愿人长久')\n",
      "/6.mp3 邓丽君 但愿人长久\n",
      "一路上有你\n",
      "沧海一声笑\n",
      "往事随风\n",
      "光辉岁月\n",
      "记事本\n",
      "但愿人长久\n"
     ]
    }
   ],
   "source": [
    "import re\n",
    "\n",
    "html = \"\"\"<div id=\"songs-list\">\n",
    "    <h2 class=\"title\">经典老歌</h2>\n",
    "    <p class=\"introduction\">\n",
    "        经典老歌列表\n",
    "    </p>\n",
    "    <ul id=\"list\" class=\"list-group\">\n",
    "        <li data-view=\"2\">一路上有你</li>\n",
    "        <li data-view=\"7\">\n",
    "            <a href=\"/2.mp3\" singer=\"任贤齐\">沧海一声笑</a>\n",
    "        </li>\n",
    "        <li data-view=\"4\" class=\"active\">\n",
    "            <a href=\"/3.mp3\" singer=\"齐秦\">往事随风</a>\n",
    "        </li>\n",
    "        <li data-view=\"6\"><a href=\"/4.mp3\" singer=\"beyond\">光辉岁月</a></li>\n",
    "        <li data-view=\"5\"><a href=\"/5.mp3\" singer=\"陈慧琳\">记事本</a></li>\n",
    "        <li data-view=\"5\">\n",
    "            <a href=\"/6.mp3\" singer=\"邓丽君\">但愿人长久</a>\n",
    "        </li>\n",
    "    </ul>\n",
    "</div>\"\"\"\n",
    "\n",
    "results = re.findall('<li.*?href=\"(.*?)\".*?singer=\"(.*?)\">(.*?)</a>', html, re.S)\n",
    "\n",
    "print(results)\n",
    "print(type(results))\n",
    "for result in results:\n",
    "    print(result)\n",
    "    print(result[0],result[1],result[2])\n",
    "\n",
    "# 匹配所有歌名，后面使用re.sub方法先替换掉超链接后再匹配会更加便捷\n",
    "results2 = re.findall('<li.*?>\\s*?(<a.*?>)?(\\w+)(</a>)?\\s*?</li>', html, re.S)\n",
    "for result in results2:\n",
    "    print(result[1])"
   ]
  },
  {
   "cell_type": "markdown",
   "metadata": {
    "collapsed": true
   },
   "source": [
    "# 4. re.sub('表达式', '替换后', 要替换的)\n",
    "替换字符串中每一个匹配的子串后返回替换后的字符串"
   ]
  },
  {
   "cell_type": "code",
   "execution_count": 17,
   "metadata": {},
   "outputs": [
    {
     "name": "stdout",
     "output_type": "stream",
     "text": [
      "Extra string Hello  World_This is a Regex Demo Extra string \n",
      " Extra string Hello 7c World_This is a Regex Demo Extra string \n",
      " Extra string Hello 1234567 8910 World_This is a Regex Demo Extra string\n"
     ]
    }
   ],
   "source": [
    "import re\n",
    "\n",
    "content = \"Extra string Hello 1234567 World_This is a Regex Demo Extra string\"\n",
    "# 替换为空\n",
    "content1 = re.sub('\\d+', '', content)\n",
    "# 替换为'7c'\n",
    "content2 = re.sub('\\d+', '7c', content)\n",
    "# 在原基础上增加\n",
    "content3 = re.sub('(\\d+)', r'\\1 8910', content)\n",
    "\n",
    "print(content1,'\\n', content2, '\\n', content3)"
   ]
  },
  {
   "cell_type": "code",
   "execution_count": 25,
   "metadata": {},
   "outputs": [
    {
     "name": "stdout",
     "output_type": "stream",
     "text": [
      "<div id=\"songs-list\">\n",
      "    <h2 class=\"title\">经典老歌</h2>\n",
      "    <p class=\"introduction\">\n",
      "        经典老歌列表\n",
      "    </p>\n",
      "    <ul id=\"list\" class=\"list-group\">\n",
      "        <li data-view=\"2\">一路上有你</li>\n",
      "        <li data-view=\"7\">\n",
      "            沧海一声笑\n",
      "        </li>\n",
      "        <li data-view=\"4\" class=\"active\">\n",
      "            往事随风\n",
      "        </li>\n",
      "        <li data-view=\"6\">光辉岁月</li>\n",
      "        <li data-view=\"5\">记事本</li>\n",
      "        <li data-view=\"5\">\n",
      "            但愿人长久\n",
      "        </li>\n",
      "    </ul>\n",
      "</div>\n",
      "一路上有你\n",
      "沧海一声笑\n",
      "往事随风\n",
      "光辉岁月\n",
      "记事本\n",
      "但愿人长久\n"
     ]
    }
   ],
   "source": [
    "import re\n",
    "\n",
    "html = \"\"\"<div id=\"songs-list\">\n",
    "    <h2 class=\"title\">经典老歌</h2>\n",
    "    <p class=\"introduction\">\n",
    "        经典老歌列表\n",
    "    </p>\n",
    "    <ul id=\"list\" class=\"list-group\">\n",
    "        <li data-view=\"2\">一路上有你</li>\n",
    "        <li data-view=\"7\">\n",
    "            <a href=\"/2.mp3\" singer=\"任贤齐\">沧海一声笑</a>\n",
    "        </li>\n",
    "        <li data-view=\"4\" class=\"active\">\n",
    "            <a href=\"/3.mp3\" singer=\"齐秦\">往事随风</a>\n",
    "        </li>\n",
    "        <li data-view=\"6\"><a href=\"/4.mp3\" singer=\"beyond\">光辉岁月</a></li>\n",
    "        <li data-view=\"5\"><a href=\"/5.mp3\" singer=\"陈慧琳\">记事本</a></li>\n",
    "        <li data-view=\"5\">\n",
    "            <a href=\"/6.mp3\" singer=\"邓丽君\">但愿人长久</a>\n",
    "        </li>\n",
    "    </ul>\n",
    "</div>\"\"\"\n",
    "\n",
    "# 使用re.sub方法先替换掉超链接后在匹配会更加便捷\n",
    "html = re.sub('<a.*?>|</a>', '', html)\n",
    "print(html)\n",
    "\n",
    "results = re.findall('<li.*?>(.*?)</li>', html, re.S)\n",
    "for result in results:\n",
    "    print(result.strip())"
   ]
  },
  {
   "cell_type": "markdown",
   "metadata": {
    "collapsed": true
   },
   "source": [
    "# 5. re.compile\n",
    "将正则字符串编译成正则表达式对象，以便于复用该匹配模式"
   ]
  },
  {
   "cell_type": "code",
   "execution_count": 1,
   "metadata": {},
   "outputs": [
    {
     "name": "stdout",
     "output_type": "stream",
     "text": [
      "<_sre.SRE_Match object; span=(0, 41), match='Hello 1234567 World_This \\nis a Regex Demo'>\n"
     ]
    }
   ],
   "source": [
    "import re\n",
    "\n",
    "content = r\"\"\"Hello 1234567 World_This \n",
    "is a Regex Demo\"\"\"\n",
    "\n",
    "pattern = re.compile(\"Hello.*?Demo\", re.S)\n",
    "result = re.match(pattern, content)\n",
    "print(result)"
   ]
  },
  {
   "cell_type": "markdown",
   "metadata": {},
   "source": [
    "# 综合实战"
   ]
  },
  {
   "cell_type": "code",
   "execution_count": 5,
   "metadata": {},
   "outputs": [
    {
     "name": "stdout",
     "output_type": "stream",
     "text": [
      "https://book.douban.com/subject/27139846/?icn=index-editionrecommend 我在未来等你 刘同 2017-9\n",
      "https://book.douban.com/subject/27118367/?icn=index-editionrecommend 奋斗者：侯沧海商路笔记 小桥老树 2017-10\n",
      "https://book.douban.com/subject/27077719/?icn=index-editionrecommend 黑匣子思维 [英]马修·萨伊德 2017-7\n",
      "https://book.douban.com/subject/27121179/?icn=index-editionrecommend 诸神纪 严优 2017-9\n",
      "https://book.douban.com/subject/27092880/?icn=index-editionrecommend 这本书能让你睡得好 [美]肖恩·史蒂文森（ShawnStevenson） 2017-8-1\n",
      "https://book.douban.com/subject/27132522/?icn=index-latestbook-subject 唐译子不语 [清]袁枚 2017-9-1\n",
      "https://book.douban.com/subject/27093323/?icn=index-latestbook-subject 百年战争简史 [英]德斯蒙德·苏厄德 2017-9\n",
      "https://book.douban.com/subject/27134137/?icn=index-latestbook-subject 白夜追凶 指纹 2017-9-1\n",
      "https://book.douban.com/subject/27091014/?icn=index-latestbook-subject 忠实的刽子手 [美]乔尔·哈林顿 2017-9\n",
      "https://book.douban.com/subject/27103712/?icn=index-latestbook-subject 雨中杀手 [美]雷蒙德·钱德勒 2017-9\n",
      "https://book.douban.com/subject/27131703/?icn=index-latestbook-subject 爆裂 [美]伊藤穰一&nbsp;/&nbsp;[美]杰夫·豪 2017-9-1\n",
      "https://book.douban.com/subject/27104274/?icn=index-latestbook-subject 三个彩色故事 [巴西]若热·亚马多 2017-9\n",
      "https://book.douban.com/subject/27118642/?icn=index-latestbook-subject 和纸之美 [日]柳宗悦 2017-9\n",
      "https://book.douban.com/subject/27064053/?icn=index-latestbook-subject 一月物语 [日]平野启一郎 2017-8-1\n",
      "https://book.douban.com/subject/27036755/?icn=index-latestbook-subject 远方的陌生人 [美]詹姆斯·弗农 2017-7\n",
      "https://book.douban.com/subject/27077339/?icn=index-latestbook-subject 德里纳河上的桥 [塞尔维亚]伊沃·安德里奇 2017-8\n",
      "https://book.douban.com/subject/26688765/?icn=index-latestbook-subject 论巴赫 [德]阿尔伯特·施韦泽 2017-9-1\n",
      "https://book.douban.com/subject/27079479/?icn=index-latestbook-subject 南方高速 [阿根廷]胡利奥·科塔萨尔 2017-10\n",
      "https://book.douban.com/subject/27091561/?icn=index-latestbook-subject 关羽 [日]渡边义浩 2017-8\n",
      "https://book.douban.com/subject/27116030/?icn=index-latestbook-subject A致X [英]约翰·伯格 2017-8-1\n",
      "https://book.douban.com/subject/27081056/?icn=index-latestbook-subject 世界历史上的蒙古征服 [美]梅天穆 2017-10\n",
      "https://book.douban.com/subject/27083911/?icn=index-latestbook-subject 拼布娃娃 [英]丹尼尔·科尔 2017-9\n",
      "https://book.douban.com/subject/27113372/?icn=index-latestbook-subject 父亲的失乐园 [美]阿里埃勒·萨巴尔 2017-9\n",
      "https://book.douban.com/subject/27115747/?icn=index-latestbook-subject 两只空气同时落球 陈卫 2017-9-1\n",
      "https://book.douban.com/subject/27111185/?icn=index-latestbook-subject 女性贫困 [日]NHK特别节目录制组 2017-9\n",
      "https://book.douban.com/subject/27107671/?icn=index-latestbook-subject 甲马 默音 2017-10\n",
      "https://book.douban.com/subject/27098403/?icn=index-latestbook-subject 这幅画还可以看这里 [日]宫下规久朗 2017-8\n",
      "https://book.douban.com/subject/27104531/?icn=index-latestbook-subject 布园重访 [英]伊夫林·沃 2017-9\n",
      "https://book.douban.com/subject/27089521/?icn=index-latestbook-subject 中东死生门 周轶君 2017-8-1\n",
      "https://book.douban.com/subject/27109754/?icn=index-latestbook-subject 赫拉巴尔之书 [匈]艾斯特哈兹·彼得 2017-8\n",
      "https://book.douban.com/subject/27133543/?icn=index-latestbook-subject 岛上来信 胡子 2017-9\n",
      "https://book.douban.com/subject/27046176/?icn=index-latestbook-subject 东镇女巫 [美]约翰·厄普代克 2017-8\n",
      "https://book.douban.com/subject/27001191/?icn=index-latestbook-subject 生逢其时 [英]戴维·洛奇 2017-9\n",
      "https://book.douban.com/subject/26939977/?icn=index-latestbook-subject 事故 [阿尔巴尼亚]伊斯梅尔·卡达莱 2017-8\n",
      "https://book.douban.com/subject/27126207/?icn=index-latestbook-subject 蔬菜教室 [日]内田悟 2017-10\n",
      "https://book.douban.com/subject/26689052/?icn=index-latestbook-subject 狗样的春天 [法]帕特里克·莫迪亚诺 2017-8\n",
      "https://book.douban.com/subject/27094149/?icn=index-latestbook-subject 空气女的时间志 [日]寺山修司 2017-10\n",
      "https://book.douban.com/subject/27118271/?icn=index-latestbook-subject 今夜宜有彩虹 陆烨华 2017-10\n",
      "https://book.douban.com/subject/27112626/?icn=index-latestbook-subject 理解戈达尔 [法]米歇尔·玛利 2017-9-1\n",
      "https://book.douban.com/subject/27100485/?icn=index-latestbook-subject 废墟中的少女侦探 [日]相泽沙呼 2017-10\n",
      "https://book.douban.com/review/8782479/ 时间停止的那一天 （英）蕾秋·乔伊斯 2017-9-21\n",
      "https://read.douban.com/ebook/8660035/?dcs=book-hot&amp;dcm=douban&amp;dct=read-subject 浮世画家 [英]石黑一雄 2011-5-1\n",
      "https://read.douban.com/ebook/16269557/?dcs=book-hot&amp;dcm=douban&amp;dct=read-subject 古董局中局·大全集（共4册） 马伯庸 2015-12\n",
      "https://read.douban.com/ebook/264825/?dcs=book-hot&amp;dcm=douban&amp;dct=read-subject 外国音乐在外国 陈丹青 2010-1\n",
      "https://read.douban.com/ebook/39961798/?dcs=book-hot&amp;dcm=douban&amp;dct=read-subject 偷窥者 秦明 2017-7\n",
      "https://read.douban.com/ebook/38154696/?dcs=book-hot&amp;dcm=douban&amp;dct=read-subject 长夜难明 紫金陈 2017-1\n",
      "https://read.douban.com/ebook/22359065/?dcs=book-hot&amp;dcm=douban&amp;dct=read-subject 我的名字叫红 [土耳其]奥尔罕·帕慕克 2006-8\n",
      "https://read.douban.com/ebook/40071710/?dcs=book-hot&amp;dcm=douban&amp;dct=read-subject 不然你搬去火星啊 [日]伊坂幸太郎 2016-8\n",
      "https://read.douban.com/ebook/34760338/?dcs=book-hot&amp;dcm=douban&amp;dct=read-subject 不成问题的问题 老舍 2017-4\n",
      "https://read.douban.com/ebook/36103930/?dcs=book-hot&amp;dcm=douban&amp;dct=read-subject 解忧杂货店 [日]东野圭吾 2014-5\n"
     ]
    }
   ],
   "source": [
    "import requests\n",
    "import re\n",
    "\n",
    "content = requests.get(\"https://book.douban.com/\").text\n",
    "pattern = re.compile('<li.*?cover.*?href=\"(.*?)\".*?title=\"(.*?)\".*?more-meta.*?author\">(.*?)</span>.*?year\">(.*?)</span>.*?</li>', re.S)\n",
    "results = re.findall(pattern, content)\n",
    "for result in results:\n",
    "    url,name,author,date = result\n",
    "    # 用re.sub方法去掉换行符\n",
    "    author = re.sub('\\s', '', author)\n",
    "    # 也可用.strip()方法去掉换行符\n",
    "    print(url,name,author,date.strip())"
   ]
  },
  {
   "cell_type": "code",
   "execution_count": null,
   "metadata": {
    "collapsed": true
   },
   "outputs": [],
   "source": []
  }
 ],
 "metadata": {
  "kernelspec": {
   "display_name": "Python 3",
   "language": "python",
   "name": "python3"
  },
  "language_info": {
   "codemirror_mode": {
    "name": "ipython",
    "version": 3
   },
   "file_extension": ".py",
   "mimetype": "text/x-python",
   "name": "python",
   "nbconvert_exporter": "python",
   "pygments_lexer": "ipython3",
   "version": "3.6.2"
  }
 },
 "nbformat": 4,
 "nbformat_minor": 2
}
