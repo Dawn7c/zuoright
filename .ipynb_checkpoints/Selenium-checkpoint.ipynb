{
 "cells": [
  {
   "cell_type": "markdown",
   "metadata": {
    "collapsed": true
   },
   "source": [
    "## 操作网页"
   ]
  },
  {
   "cell_type": "code",
   "execution_count": 26,
   "metadata": {
    "scrolled": true
   },
   "outputs": [
    {
     "name": "stdout",
     "output_type": "stream",
     "text": [
      "<selenium.webdriver.remote.webelement.WebElement (session=\"8b4c8d811231ec4c11d6a84441b349a4\", element=\"0.8669717517586004-1\")>\n",
      "[<selenium.webdriver.remote.webelement.WebElement (session=\"8b4c8d811231ec4c11d6a84441b349a4\", element=\"0.8669717517586004-2\")>, <selenium.webdriver.remote.webelement.WebElement (session=\"8b4c8d811231ec4c11d6a84441b349a4\", element=\"0.8669717517586004-3\")>, <selenium.webdriver.remote.webelement.WebElement (session=\"8b4c8d811231ec4c11d6a84441b349a4\", element=\"0.8669717517586004-4\")>, <selenium.webdriver.remote.webelement.WebElement (session=\"8b4c8d811231ec4c11d6a84441b349a4\", element=\"0.8669717517586004-5\")>, <selenium.webdriver.remote.webelement.WebElement (session=\"8b4c8d811231ec4c11d6a84441b349a4\", element=\"0.8669717517586004-6\")>, <selenium.webdriver.remote.webelement.WebElement (session=\"8b4c8d811231ec4c11d6a84441b349a4\", element=\"0.8669717517586004-7\")>, <selenium.webdriver.remote.webelement.WebElement (session=\"8b4c8d811231ec4c11d6a84441b349a4\", element=\"0.8669717517586004-8\")>, <selenium.webdriver.remote.webelement.WebElement (session=\"8b4c8d811231ec4c11d6a84441b349a4\", element=\"0.8669717517586004-9\")>, <selenium.webdriver.remote.webelement.WebElement (session=\"8b4c8d811231ec4c11d6a84441b349a4\", element=\"0.8669717517586004-10\")>, <selenium.webdriver.remote.webelement.WebElement (session=\"8b4c8d811231ec4c11d6a84441b349a4\", element=\"0.8669717517586004-11\")>, <selenium.webdriver.remote.webelement.WebElement (session=\"8b4c8d811231ec4c11d6a84441b349a4\", element=\"0.8669717517586004-12\")>, <selenium.webdriver.remote.webelement.WebElement (session=\"8b4c8d811231ec4c11d6a84441b349a4\", element=\"0.8669717517586004-13\")>, <selenium.webdriver.remote.webelement.WebElement (session=\"8b4c8d811231ec4c11d6a84441b349a4\", element=\"0.8669717517586004-14\")>, <selenium.webdriver.remote.webelement.WebElement (session=\"8b4c8d811231ec4c11d6a84441b349a4\", element=\"0.8669717517586004-15\")>, <selenium.webdriver.remote.webelement.WebElement (session=\"8b4c8d811231ec4c11d6a84441b349a4\", element=\"0.8669717517586004-16\")>, <selenium.webdriver.remote.webelement.WebElement (session=\"8b4c8d811231ec4c11d6a84441b349a4\", element=\"0.8669717517586004-17\")>]\n"
     ]
    }
   ],
   "source": [
    "from selenium import webdriver\n",
    "\n",
    "# 声明浏览器对象\n",
    "browser = webdriver.Chrome()\n",
    "# browser = webdriver.Firefox()\n",
    "# browser = webdriver.Ie()\n",
    "\n",
    "# 访问页面\n",
    "browser.get(\"https:taobao.com\")\n",
    "\n",
    "# 打印源码\n",
    "# print(browser.page_source)\n",
    "\n",
    "# 查找单个元素\n",
    "input_first = browser.find_element_by_css_selector(\"#q\")\n",
    "# 其它写法\n",
    "# browser.find_element_by_class_name(\"btn-search\")\n",
    "# browser.find_element_by_xpath()\n",
    "# browser.find_element_by_id(\"q\") \n",
    "# 通用写法：\n",
    "# browser.find_element(By.ID, \"q\")(先from selenium.webdriver.common.by import By)\n",
    "\n",
    "print(input_first)\n",
    "\n",
    "# 查找多个元素：elements\n",
    "lis = browser.find_elements_by_css_selector(\".service-bd li\")\n",
    "print(lis)\n",
    "\n",
    "browser.close()\n"
   ]
  },
  {
   "cell_type": "markdown",
   "metadata": {},
   "source": [
    "## [操作元素：webelement](http://selenium-python.readthedocs.io/api.html#module-selenium.webdriver.remote.webelement)"
   ]
  },
  {
   "cell_type": "code",
   "execution_count": 19,
   "metadata": {
    "collapsed": true
   },
   "outputs": [],
   "source": [
    "from selenium import webdriver\n",
    "import time\n",
    "\n",
    "browser = webdriver.Chrome()\n",
    "browser.get(\"https:taobao.com\")\n",
    "\n",
    "input = browser.find_element_by_id(\"q\")\n",
    "input.send_keys(\"iPad\")\n",
    "time.sleep(1)\n",
    "\n",
    "input.clear()\n",
    "input.send_keys(\"iPhone X\")\n",
    "\n",
    "button = browser.find_element_by_class_name(\"btn-search\")\n",
    "button.click()\n",
    "browser.close()"
   ]
  },
  {
   "cell_type": "markdown",
   "metadata": {},
   "source": [
    "## [交互动作：Action Chains](http://selenium-python.readthedocs.io/api.html#module-selenium.webdriver.common.action_chains)\n",
    "将动作附加到动作链中串行执行"
   ]
  },
  {
   "cell_type": "code",
   "execution_count": 25,
   "metadata": {
    "collapsed": true
   },
   "outputs": [],
   "source": [
    "from selenium import webdriver\n",
    "from selenium.webdriver import ActionChains\n",
    "\n",
    "browser = webdriver.Chrome()\n",
    "url = \"http://www.runoob.com/try/try.php?filename=jqueryui-api-droppable\"\n",
    "browser.get(url)\n",
    "browser.switch_to.frame(\"iframeResult\")\n",
    "# browser.switch_to.parent_frame()\n",
    "\n",
    "source = browser.find_element_by_css_selector(\"#draggable\")\n",
    "target = browser.find_element_by_css_selector(\"#droppable\")\n",
    "\n",
    "actions = ActionChains(browser)\n",
    "actions.drag_and_drop(source, target)\n",
    "actions.perform()"
   ]
  },
  {
   "cell_type": "markdown",
   "metadata": {},
   "source": [
    "## 执行JS"
   ]
  },
  {
   "cell_type": "code",
   "execution_count": 37,
   "metadata": {
    "collapsed": true
   },
   "outputs": [],
   "source": [
    "from selenium import webdriver\n",
    "\n",
    "browser = webdriver.Firefox()\n",
    "browser.get(\"https://www.zhihu.com/explore\")\n",
    "\n",
    "browser.execute_script(\"window.scrollTo(0, document.body.scrollHeight)\")\n",
    "browser.execute_script('alert(\"lalala\")')"
   ]
  },
  {
   "cell_type": "markdown",
   "metadata": {},
   "source": [
    "## 操作选项卡"
   ]
  },
  {
   "cell_type": "code",
   "execution_count": 61,
   "metadata": {},
   "outputs": [
    {
     "name": "stdout",
     "output_type": "stream",
     "text": [
      "['CDwindow-a50f6964-0545-4aa6-bda2-8a5ad06527ae', 'CDwindow-0f807914-ebb8-4f6d-8efd-0ae29002e099']\n"
     ]
    }
   ],
   "source": [
    "from selenium import webdriver\n",
    "import time\n",
    "\n",
    "browser = webdriver.Chrome()\n",
    "browser.get(\"https://www.baidu.com\")\n",
    "\n",
    "# 通过JS添加选项卡\n",
    "browser.execute_script(\"window.open()\")\n",
    "\n",
    "# 查看一下代码\n",
    "print(browser.window_handles)\n",
    "\n",
    "# 切换到第二个选项卡\n",
    "browser.switch_to_window(browser.window_handles[1])\n",
    "browser.get(\"https://www.taobao.com\")\n",
    "\n",
    "time.sleep(1)\n",
    "\n",
    "# 切回到第一个选项卡\n",
    "browser.switch_to_window(browser.window_handles[0])\n",
    "browser.get(\"https://www.weibo.com\")"
   ]
  },
  {
   "cell_type": "markdown",
   "metadata": {},
   "source": [
    "## 前进后退"
   ]
  },
  {
   "cell_type": "code",
   "execution_count": 54,
   "metadata": {
    "collapsed": true
   },
   "outputs": [],
   "source": [
    "from selenium import webdriver\n",
    "import time\n",
    "\n",
    "browser = webdriver.Chrome()\n",
    "browser.get(\"https://www.baidu.com\")\n",
    "browser.get(\"https://www.taobao.com\")\n",
    "browser.get(\"https://www.weibo.com\")\n",
    "\n",
    "browser.back()\n",
    "time.sleep(1)\n",
    "browser.forward()\n",
    "browser.close()"
   ]
  },
  {
   "cell_type": "markdown",
   "metadata": {},
   "source": [
    "## 获取元素信息"
   ]
  },
  {
   "cell_type": "code",
   "execution_count": 45,
   "metadata": {},
   "outputs": [
    {
     "name": "stdout",
     "output_type": "stream",
     "text": [
      "<selenium.webdriver.firefox.webelement.FirefoxWebElement (session=\"c9a5eaeb-45dc-43ce-85a6-1c63c8b2137c\", element=\"a3ac8f9f-e0a3-4877-86a4-5158faf0b21e\")>\n",
      "zu-top-link-logo\n",
      "知乎\n",
      "a3ac8f9f-e0a3-4877-86a4-5158faf0b21e\n",
      "{'x': 164, 'y': 0}\n",
      "a\n",
      "{'height': 45.0, 'width': 61.0}\n"
     ]
    }
   ],
   "source": [
    "from selenium import webdriver\n",
    "\n",
    "browser = webdriver.Firefox()\n",
    "browser.get(\"https://www.zhihu.com/explore\")\n",
    "\n",
    "logo = browser.find_element_by_id(\"zh-top-link-logo\")\n",
    "print(logo)\n",
    "# 获取属性\n",
    "print(logo.get_attribute(\"class\"))\n",
    "# 获取文本\n",
    "print(logo.text)\n",
    "# 获取id\n",
    "print(logo.id)\n",
    "# 获取位置\n",
    "print(logo.location)\n",
    "# 获取标签名\n",
    "print(logo.tag_name)\n",
    "# 获取大小\n",
    "print(logo.size)"
   ]
  },
  {
   "cell_type": "markdown",
   "metadata": {},
   "source": [
    "## 等待"
   ]
  },
  {
   "cell_type": "markdown",
   "metadata": {},
   "source": [
    "### 隐式等待：browser.implicity_wait(x)\n",
    "当使用了隐式等待，如果webdriver没有在DOM中找到元素，则将继续等待设定时间，超时后抛出找不到元素的异常，默认时长为0"
   ]
  },
  {
   "cell_type": "markdown",
   "metadata": {},
   "source": [
    "### [显式等待](http://selenium-python.readthedocs.io/api.html#module-selenium.webdriver.support.expected_conditions)\n",
    "设置一个等待条件，一个最长等待时间，判断条件是否成立，成立则立刻返回，不成立则等待，直到超时则抛出异常"
   ]
  },
  {
   "cell_type": "code",
   "execution_count": 51,
   "metadata": {},
   "outputs": [
    {
     "ename": "TimeoutException",
     "evalue": "Message: \n",
     "output_type": "error",
     "traceback": [
      "\u001b[1;31m---------------------------------------------------------------------------\u001b[0m",
      "\u001b[1;31mTimeoutException\u001b[0m                          Traceback (most recent call last)",
      "\u001b[1;32m<ipython-input-51-da1f294c3161>\u001b[0m in \u001b[0;36m<module>\u001b[1;34m()\u001b[0m\n\u001b[0;32m     11\u001b[0m \u001b[0minput\u001b[0m \u001b[1;33m=\u001b[0m \u001b[0mwait\u001b[0m\u001b[1;33m.\u001b[0m\u001b[0muntil\u001b[0m\u001b[1;33m(\u001b[0m\u001b[0mEC\u001b[0m\u001b[1;33m.\u001b[0m\u001b[0mpresence_of_element_located\u001b[0m\u001b[1;33m(\u001b[0m\u001b[1;33m(\u001b[0m\u001b[0mBy\u001b[0m\u001b[1;33m.\u001b[0m\u001b[0mID\u001b[0m\u001b[1;33m,\u001b[0m \u001b[1;34m'q'\u001b[0m\u001b[1;33m)\u001b[0m\u001b[1;33m)\u001b[0m\u001b[1;33m)\u001b[0m\u001b[1;33m\u001b[0m\u001b[0m\n\u001b[0;32m     12\u001b[0m \u001b[1;31m# 元素可点击\u001b[0m\u001b[1;33m\u001b[0m\u001b[1;33m\u001b[0m\u001b[0m\n\u001b[1;32m---> 13\u001b[1;33m \u001b[0mbutton\u001b[0m \u001b[1;33m=\u001b[0m \u001b[0mwait\u001b[0m\u001b[1;33m.\u001b[0m\u001b[0muntil\u001b[0m\u001b[1;33m(\u001b[0m\u001b[0mEC\u001b[0m\u001b[1;33m.\u001b[0m\u001b[0melement_to_be_clickable\u001b[0m\u001b[1;33m(\u001b[0m\u001b[1;33m(\u001b[0m\u001b[0mBy\u001b[0m\u001b[1;33m.\u001b[0m\u001b[0mCSS_SELECTOR\u001b[0m\u001b[1;33m,\u001b[0m \u001b[1;34m'btn-search'\u001b[0m\u001b[1;33m)\u001b[0m\u001b[1;33m)\u001b[0m\u001b[1;33m)\u001b[0m\u001b[1;33m\u001b[0m\u001b[0m\n\u001b[0m\u001b[0;32m     14\u001b[0m \u001b[0mprint\u001b[0m\u001b[1;33m(\u001b[0m\u001b[0minput\u001b[0m\u001b[1;33m,\u001b[0m \u001b[0mbutton\u001b[0m\u001b[1;33m)\u001b[0m\u001b[1;33m\u001b[0m\u001b[0m\n",
      "\u001b[1;32mD:\\DevelopTools\\Anaconda3\\lib\\site-packages\\selenium\\webdriver\\support\\wait.py\u001b[0m in \u001b[0;36muntil\u001b[1;34m(self, method, message)\u001b[0m\n\u001b[0;32m     78\u001b[0m             \u001b[1;32mif\u001b[0m \u001b[0mtime\u001b[0m\u001b[1;33m.\u001b[0m\u001b[0mtime\u001b[0m\u001b[1;33m(\u001b[0m\u001b[1;33m)\u001b[0m \u001b[1;33m>\u001b[0m \u001b[0mend_time\u001b[0m\u001b[1;33m:\u001b[0m\u001b[1;33m\u001b[0m\u001b[0m\n\u001b[0;32m     79\u001b[0m                 \u001b[1;32mbreak\u001b[0m\u001b[1;33m\u001b[0m\u001b[0m\n\u001b[1;32m---> 80\u001b[1;33m         \u001b[1;32mraise\u001b[0m \u001b[0mTimeoutException\u001b[0m\u001b[1;33m(\u001b[0m\u001b[0mmessage\u001b[0m\u001b[1;33m,\u001b[0m \u001b[0mscreen\u001b[0m\u001b[1;33m,\u001b[0m \u001b[0mstacktrace\u001b[0m\u001b[1;33m)\u001b[0m\u001b[1;33m\u001b[0m\u001b[0m\n\u001b[0m\u001b[0;32m     81\u001b[0m \u001b[1;33m\u001b[0m\u001b[0m\n\u001b[0;32m     82\u001b[0m     \u001b[1;32mdef\u001b[0m \u001b[0muntil_not\u001b[0m\u001b[1;33m(\u001b[0m\u001b[0mself\u001b[0m\u001b[1;33m,\u001b[0m \u001b[0mmethod\u001b[0m\u001b[1;33m,\u001b[0m \u001b[0mmessage\u001b[0m\u001b[1;33m=\u001b[0m\u001b[1;34m''\u001b[0m\u001b[1;33m)\u001b[0m\u001b[1;33m:\u001b[0m\u001b[1;33m\u001b[0m\u001b[0m\n",
      "\u001b[1;31mTimeoutException\u001b[0m: Message: \n"
     ]
    }
   ],
   "source": [
    "from selenium import webdriver\n",
    "from selenium.webdriver.common.by import By\n",
    "from selenium.webdriver.support.ui import WebDriverWait\n",
    "from selenium.webdriver.support import expected_conditions as EC\n",
    "\n",
    "browser = webdriver.Chrome()\n",
    "browser.get(\"https://www.taobao.com/\")\n",
    "\n",
    "wait = WebDriverWait(browser,10)\n",
    "# 元素加载出\n",
    "input = wait.until(EC.presence_of_element_located((By.ID, 'q')))\n",
    "# 元素可点击\n",
    "button = wait.until(EC.element_to_be_clickable((By.CSS_SELECTOR, 'btn-search')))\n",
    "print(input, button)"
   ]
  },
  {
   "cell_type": "markdown",
   "metadata": {},
   "source": [
    "## Cookies"
   ]
  },
  {
   "cell_type": "code",
   "execution_count": 4,
   "metadata": {},
   "outputs": [
    {
     "name": "stdout",
     "output_type": "stream",
     "text": [
      "[{'domain': '.zhihu.com', 'expiry': 1602757515.01957, 'httpOnly': False, 'name': 'd_c0', 'path': '/', 'secure': False, 'value': '\"ADBC5X9BiQyPTgkxs3BgWNC60C2ULruP2I0=|1508149514\"'}, {'domain': 'www.zhihu.com', 'httpOnly': True, 'name': 'aliyungf_tc', 'path': '/', 'secure': False, 'value': 'AQAAAN7tHUVEfQoAUamHPZEFB72AIacP'}, {'domain': '.zhihu.com', 'httpOnly': False, 'name': 'l_n_c', 'path': '/', 'secure': False, 'value': '1'}, {'domain': '.zhihu.com', 'expiry': 1508151316, 'httpOnly': False, 'name': '__utmb', 'path': '/', 'secure': False, 'value': '51854390.0.10.1508149517'}, {'domain': '.zhihu.com', 'expiry': 1602757511.080397, 'httpOnly': False, 'name': 'q_c1', 'path': '/', 'secure': False, 'value': '1421184e81c14599a70fee36282a42bc|1508149511000|1508149511000'}, {'domain': 'www.zhihu.com', 'httpOnly': False, 'name': '_xsrf', 'path': '/', 'secure': False, 'value': 'c0c4cc77541f2b7d8813b088e16670d7'}, {'domain': '.zhihu.com', 'expiry': 1510741511.080635, 'httpOnly': False, 'name': 'r_cap_id', 'path': '/', 'secure': False, 'value': '\"ZjU2MTExZTU0OTM0NDU0NWExNzExNGU2ZTA2OTIyMzM=|1508149511|236ca407f923397ac7e65947c3f0761eb8c3fcdb\"'}, {'domain': '.zhihu.com', 'expiry': 1510741511.080761, 'httpOnly': False, 'name': 'cap_id', 'path': '/', 'secure': False, 'value': '\"ZDI0YWFmYjE2OTUwNDcwZjg0MDdlMTIxOWQxMWNmNDc=|1508149511|d49bcc0d67ee762f816738796aab836d22f11605\"'}, {'domain': '.zhihu.com', 'expiry': 1510741511.08087, 'httpOnly': False, 'name': 'l_cap_id', 'path': '/', 'secure': False, 'value': '\"MzEzZDJmYWQ0NWNjNDg5MGIxNGU5NTNjODFjNmZiZTg=|1508149511|3a8dc04ccfdce64022aa0c7b37293043b94fd1ce\"'}, {'domain': '.zhihu.com', 'httpOnly': False, 'name': 'n_c', 'path': '/', 'secure': False, 'value': '1'}, {'domain': '.zhihu.com', 'expiry': 1571221515, 'httpOnly': False, 'name': '_zap', 'path': '/', 'secure': False, 'value': 'aa909d8c-0197-4e7d-a81f-d4a51c38866f'}, {'domain': '.zhihu.com', 'expiry': 1571221516, 'httpOnly': False, 'name': '__utma', 'path': '/', 'secure': False, 'value': '51854390.607603087.1508149517.1508149517.1508149517.1'}, {'domain': '.zhihu.com', 'httpOnly': False, 'name': '__utmc', 'path': '/', 'secure': False, 'value': '51854390'}, {'domain': '.zhihu.com', 'expiry': 1523917516, 'httpOnly': False, 'name': '__utmz', 'path': '/', 'secure': False, 'value': '51854390.1508149517.1.1.utmcsr=(direct)|utmccn=(direct)|utmcmd=(none)'}, {'domain': '.zhihu.com', 'expiry': 1571221516, 'httpOnly': False, 'name': '__utmv', 'path': '/', 'secure': False, 'value': '51854390.000--|3=entry_date=20171016=1'}]\n",
      "[{'domain': '.zhihu.com', 'expiry': 1602757515.01957, 'httpOnly': False, 'name': 'd_c0', 'path': '/', 'secure': False, 'value': '\"ADBC5X9BiQyPTgkxs3BgWNC60C2ULruP2I0=|1508149514\"'}, {'domain': 'www.zhihu.com', 'httpOnly': True, 'name': 'aliyungf_tc', 'path': '/', 'secure': False, 'value': 'AQAAAN7tHUVEfQoAUamHPZEFB72AIacP'}, {'domain': '.zhihu.com', 'httpOnly': False, 'name': 'l_n_c', 'path': '/', 'secure': False, 'value': '1'}, {'domain': '.zhihu.com', 'expiry': 1508151316, 'httpOnly': False, 'name': '__utmb', 'path': '/', 'secure': False, 'value': '51854390.0.10.1508149517'}, {'domain': '.zhihu.com', 'expiry': 1602757511.080397, 'httpOnly': False, 'name': 'q_c1', 'path': '/', 'secure': False, 'value': '1421184e81c14599a70fee36282a42bc|1508149511000|1508149511000'}, {'domain': 'www.zhihu.com', 'httpOnly': False, 'name': '_xsrf', 'path': '/', 'secure': False, 'value': 'c0c4cc77541f2b7d8813b088e16670d7'}, {'domain': '.zhihu.com', 'expiry': 1510741511.080635, 'httpOnly': False, 'name': 'r_cap_id', 'path': '/', 'secure': False, 'value': '\"ZjU2MTExZTU0OTM0NDU0NWExNzExNGU2ZTA2OTIyMzM=|1508149511|236ca407f923397ac7e65947c3f0761eb8c3fcdb\"'}, {'domain': '.zhihu.com', 'expiry': 1510741511.080761, 'httpOnly': False, 'name': 'cap_id', 'path': '/', 'secure': False, 'value': '\"ZDI0YWFmYjE2OTUwNDcwZjg0MDdlMTIxOWQxMWNmNDc=|1508149511|d49bcc0d67ee762f816738796aab836d22f11605\"'}, {'domain': '.zhihu.com', 'expiry': 1510741511.08087, 'httpOnly': False, 'name': 'l_cap_id', 'path': '/', 'secure': False, 'value': '\"MzEzZDJmYWQ0NWNjNDg5MGIxNGU5NTNjODFjNmZiZTg=|1508149511|3a8dc04ccfdce64022aa0c7b37293043b94fd1ce\"'}, {'domain': '.zhihu.com', 'httpOnly': False, 'name': 'n_c', 'path': '/', 'secure': False, 'value': '1'}, {'domain': '.zhihu.com', 'expiry': 1571221515, 'httpOnly': False, 'name': '_zap', 'path': '/', 'secure': False, 'value': 'aa909d8c-0197-4e7d-a81f-d4a51c38866f'}, {'domain': '.zhihu.com', 'expiry': 1571221516, 'httpOnly': False, 'name': '__utma', 'path': '/', 'secure': False, 'value': '51854390.607603087.1508149517.1508149517.1508149517.1'}, {'domain': '.zhihu.com', 'httpOnly': False, 'name': '__utmc', 'path': '/', 'secure': False, 'value': '51854390'}, {'domain': '.zhihu.com', 'expiry': 1523917516, 'httpOnly': False, 'name': '__utmz', 'path': '/', 'secure': False, 'value': '51854390.1508149517.1.1.utmcsr=(direct)|utmccn=(direct)|utmcmd=(none)'}, {'domain': '.zhihu.com', 'expiry': 1571221516, 'httpOnly': False, 'name': '__utmv', 'path': '/', 'secure': False, 'value': '51854390.000--|3=entry_date=20171016=1'}, {'domain': '.www.zhihu.com', 'expiry': 2138869516, 'httpOnly': False, 'name': 'name', 'path': '/', 'secure': False, 'value': '7c'}]\n",
      "[]\n"
     ]
    }
   ],
   "source": [
    "from selenium import webdriver\n",
    "\n",
    "browser = webdriver.Chrome()\n",
    "browser.get(\"https://www.zhihu.com/explore\")\n",
    "\n",
    "# 打印cookies\n",
    "print(browser.get_cookies())\n",
    "# 添加cookies\n",
    "browser.add_cookie({\"name\":\"name\", \"domain\":\"www.zhihu.com\", \"value\":\"7c\"})\n",
    "print(browser.get_cookies())\n",
    "# 清除所有cookies\n",
    "browser.delete_all_cookies()\n",
    "print(browser.get_cookies())\n",
    "\n",
    "browser.close()"
   ]
  },
  {
   "cell_type": "markdown",
   "metadata": {},
   "source": [
    "## [异常处理](http://selenium-python.readthedocs.io/api.html#module-selenium.common.exceptions)"
   ]
  },
  {
   "cell_type": "code",
   "execution_count": 1,
   "metadata": {},
   "outputs": [
    {
     "name": "stdout",
     "output_type": "stream",
     "text": [
      "No Element\n"
     ]
    }
   ],
   "source": [
    "from selenium import webdriver\n",
    "from selenium.common.exceptions import TimeoutException,NoSuchElementException\n",
    "\n",
    "browser = webdriver.PhantomJS()\n",
    "\n",
    "try:\n",
    "    browser.get(\"https://www.baidu.com\")\n",
    "except TimeoutException:\n",
    "    print(\"Time out\")\n",
    "try:\n",
    "    browser.find_element_by_id(\"hello\")\n",
    "except NoSuchElementException:\n",
    "    print(\"No Element\")\n",
    "finally:\n",
    "    browser.close()"
   ]
  },
  {
   "cell_type": "code",
   "execution_count": null,
   "metadata": {
    "collapsed": true
   },
   "outputs": [],
   "source": []
  }
 ],
 "metadata": {
  "kernelspec": {
   "display_name": "Python 3",
   "language": "python",
   "name": "python3"
  },
  "language_info": {
   "codemirror_mode": {
    "name": "ipython",
    "version": 3
   },
   "file_extension": ".py",
   "mimetype": "text/x-python",
   "name": "python",
   "nbconvert_exporter": "python",
   "pygments_lexer": "ipython3",
   "version": "3.6.2"
  }
 },
 "nbformat": 4,
 "nbformat_minor": 2
}
