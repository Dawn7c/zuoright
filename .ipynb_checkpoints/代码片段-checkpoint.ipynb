{
 "cells": [
  {
   "cell_type": "markdown",
   "metadata": {},
   "source": [
    "## 关键字过滤"
   ]
  },
  {
   "cell_type": "code",
   "execution_count": 6,
   "metadata": {
    "scrolled": true
   },
   "outputs": [
    {
     "name": "stdout",
     "output_type": "stream",
     "text": [
      "Done\n"
     ]
    }
   ],
   "source": [
    "def text_create(name, msg):\n",
    "    desktop_path = 'C:/Users/v_jiangchong/Desktop/'    \n",
    "    full_path = desktop_path + name + '.txt' \n",
    "    file = open(full_path, 'w')             \n",
    "    file.write(msg) \n",
    "    file.close() \n",
    "    print('Done')\n",
    "\n",
    "def text_filter(word,censored_word = 'lame',changed_word = 'Awesome'):\n",
    "    return word.replace(censored_word, changed_word)\n",
    "\n",
    "def censored_text_create(name, msg):\n",
    "    clean_msg = text_filter(msg)\n",
    "    text_create(name,clean_msg)\n",
    "    \n",
    "censored_text_create('Try','lame!lame!lame!')"
   ]
  },
  {
   "cell_type": "markdown",
   "metadata": {},
   "source": [
    "## 登陆密码"
   ]
  },
  {
   "cell_type": "code",
   "execution_count": null,
   "metadata": {
    "collapsed": true
   },
   "outputs": [],
   "source": [
    "password_list = ['*#*#','12345']\n",
    "\n",
    "def account_login():\n",
    "    tries = 3\n",
    "    while tries > 0:  \n",
    "        password = input('Password:')\n",
    "        password_correct = password == password_list[-1]\n",
    "        password_reset = password == password_list[0]\n",
    "\n",
    "        if password_correct:\n",
    "            print('Login success!')\n",
    "        elif password_reset:\n",
    "            new_password = input('Enter a new password :')\n",
    "            password_list.append(new_password)\n",
    "            print('Password has changed successfully!')\n",
    "            account_login()\n",
    "        else:\n",
    "            print('Wrong password or invalid input!')\n",
    "            tries = tries - 1  \n",
    "            print( tries, 'times left')\n",
    "\n",
    "    else:\n",
    "        print('Your account has been suspended')\n",
    "account_login()"
   ]
  },
  {
   "cell_type": "markdown",
   "metadata": {},
   "source": [
    "## 播放器歌名对应"
   ]
  },
  {
   "cell_type": "code",
   "execution_count": null,
   "metadata": {
    "collapsed": true
   },
   "outputs": [],
   "source": [
    "songslist = ['Holy Diver', 'Thunderstruck', 'Rebel Rebel']\n",
    "for song in songslist:\n",
    "    if song == 'Holy Diver':\n",
    "        print(song,' - Dio')\n",
    "    elif song == 'Thunderstruck':\n",
    "        print(song,' - AC/DC')\n",
    "    elif song == 'Rebel Rebel':\n",
    "        print(song,' - David Bowie')"
   ]
  },
  {
   "cell_type": "markdown",
   "metadata": {},
   "source": [
    "## 嵌套循环"
   ]
  },
  {
   "cell_type": "code",
   "execution_count": 1,
   "metadata": {
    "scrolled": true
   },
   "outputs": [
    {
     "name": "stdout",
     "output_type": "stream",
     "text": [
      "1 X 1 = 1\n",
      "1 X 2 = 2\n",
      "1 X 3 = 3\n",
      "1 X 4 = 4\n",
      "1 X 5 = 5\n",
      "1 X 6 = 6\n",
      "1 X 7 = 7\n",
      "1 X 8 = 8\n",
      "1 X 9 = 9\n",
      "2 X 1 = 2\n",
      "2 X 2 = 4\n",
      "2 X 3 = 6\n",
      "2 X 4 = 8\n",
      "2 X 5 = 10\n",
      "2 X 6 = 12\n",
      "2 X 7 = 14\n",
      "2 X 8 = 16\n",
      "2 X 9 = 18\n",
      "3 X 1 = 3\n",
      "3 X 2 = 6\n",
      "3 X 3 = 9\n",
      "3 X 4 = 12\n",
      "3 X 5 = 15\n",
      "3 X 6 = 18\n",
      "3 X 7 = 21\n",
      "3 X 8 = 24\n",
      "3 X 9 = 27\n",
      "4 X 1 = 4\n",
      "4 X 2 = 8\n",
      "4 X 3 = 12\n",
      "4 X 4 = 16\n",
      "4 X 5 = 20\n",
      "4 X 6 = 24\n",
      "4 X 7 = 28\n",
      "4 X 8 = 32\n",
      "4 X 9 = 36\n",
      "5 X 1 = 5\n",
      "5 X 2 = 10\n",
      "5 X 3 = 15\n",
      "5 X 4 = 20\n",
      "5 X 5 = 25\n",
      "5 X 6 = 30\n",
      "5 X 7 = 35\n",
      "5 X 8 = 40\n",
      "5 X 9 = 45\n",
      "6 X 1 = 6\n",
      "6 X 2 = 12\n",
      "6 X 3 = 18\n",
      "6 X 4 = 24\n",
      "6 X 5 = 30\n",
      "6 X 6 = 36\n",
      "6 X 7 = 42\n",
      "6 X 8 = 48\n",
      "6 X 9 = 54\n",
      "7 X 1 = 7\n",
      "7 X 2 = 14\n",
      "7 X 3 = 21\n",
      "7 X 4 = 28\n",
      "7 X 5 = 35\n",
      "7 X 6 = 42\n",
      "7 X 7 = 49\n",
      "7 X 8 = 56\n",
      "7 X 9 = 63\n",
      "8 X 1 = 8\n",
      "8 X 2 = 16\n",
      "8 X 3 = 24\n",
      "8 X 4 = 32\n",
      "8 X 5 = 40\n",
      "8 X 6 = 48\n",
      "8 X 7 = 56\n",
      "8 X 8 = 64\n",
      "8 X 9 = 72\n",
      "9 X 1 = 9\n",
      "9 X 2 = 18\n",
      "9 X 3 = 27\n",
      "9 X 4 = 36\n",
      "9 X 5 = 45\n",
      "9 X 6 = 54\n",
      "9 X 7 = 63\n",
      "9 X 8 = 72\n",
      "9 X 9 = 81\n"
     ]
    }
   ],
   "source": [
    "for i in range(1,10):\n",
    "    for j in range(1,10):\n",
    "        print('{} X {} = {}'.format(i,j,i*j))"
   ]
  },
  {
   "cell_type": "markdown",
   "metadata": {},
   "source": [
    "#### 设计这样一个函数，在桌面的文件夹上创建10个文本，以数字给它们命名。"
   ]
  },
  {
   "cell_type": "code",
   "execution_count": 19,
   "metadata": {},
   "outputs": [
    {
     "name": "stdout",
     "output_type": "stream",
     "text": [
      "Done\n"
     ]
    }
   ],
   "source": [
    "def text_creation(n):\n",
    "    path = \"C:/Users/v_jiangchong/Desktop/New/\"\n",
    "    for name in range(1,n+1):\n",
    "        with open(path + str(name) + \".txt\", \"w\") as file:\n",
    "            file.write(str(name))\n",
    "    print('Done')\n",
    "text_creation(10)"
   ]
  },
  {
   "cell_type": "markdown",
   "metadata": {},
   "source": [
    "#### 设计一个复利计算函数 invest()，它包含三个参数：amount（资金），rate（利率），time（投资时间）。"
   ]
  },
  {
   "cell_type": "code",
   "execution_count": 22,
   "metadata": {
    "scrolled": false
   },
   "outputs": [
    {
     "name": "stdout",
     "output_type": "stream",
     "text": [
      "principal amount:100\n",
      "year1: $105.0\n",
      "year2: $110.25\n",
      "year3: $115.7625\n",
      "year4: $121.55062500000001\n",
      "year5: $127.62815625000002\n",
      "year6: $134.00956406250003\n",
      "year7: $140.71004226562505\n",
      "year8: $147.74554437890632\n",
      "year9: $155.13282159785163\n",
      "year10: $162.8894626777442\n"
     ]
    }
   ],
   "source": [
    "def invest(amount, time, rate=0.05):\n",
    "    print(\"principal amount:{}\".format(amount))\n",
    "    for t in range(1, time+1):\n",
    "        amount = amount*(1+rate)\n",
    "        print(\"year{}: ${}\".format(t, amount))\n",
    "invest(100, 10)"
   ]
  },
  {
   "cell_type": "markdown",
   "metadata": {},
   "source": [
    "#### 打印1～100内的偶数"
   ]
  },
  {
   "cell_type": "code",
   "execution_count": 24,
   "metadata": {
    "scrolled": true
   },
   "outputs": [
    {
     "name": "stdout",
     "output_type": "stream",
     "text": [
      "2\n",
      "4\n",
      "6\n",
      "8\n",
      "10\n",
      "12\n",
      "14\n",
      "16\n",
      "18\n",
      "20\n",
      "22\n",
      "24\n",
      "26\n",
      "28\n",
      "30\n",
      "32\n",
      "34\n",
      "36\n",
      "38\n",
      "40\n",
      "42\n",
      "44\n",
      "46\n",
      "48\n",
      "50\n",
      "52\n",
      "54\n",
      "56\n",
      "58\n",
      "60\n",
      "62\n",
      "64\n",
      "66\n",
      "68\n",
      "70\n",
      "72\n",
      "74\n",
      "76\n",
      "78\n",
      "80\n",
      "82\n",
      "84\n",
      "86\n",
      "88\n",
      "90\n",
      "92\n",
      "94\n",
      "96\n",
      "98\n"
     ]
    }
   ],
   "source": [
    "def even_print():\n",
    "    for i in range(1,100):\n",
    "        if i%2 == 0:\n",
    "            print(i)\n",
    "even_print()"
   ]
  },
  {
   "cell_type": "markdown",
   "metadata": {},
   "source": [
    "#### 猜大小"
   ]
  },
  {
   "cell_type": "code",
   "execution_count": 2,
   "metadata": {
    "scrolled": true
   },
   "outputs": [
    {
     "name": "stdout",
     "output_type": "stream",
     "text": [
      "<<<<< GAME STARTS! >>>>>\n",
      "Big or Small :Big\n",
      "How much you wanna bet ? - 100\n",
      "<<<<< ROLL THE DICE! >>>>>\n",
      "The points are [6, 1, 6] You win !\n",
      "You gained 100,you have 1100 now\n",
      "<<<<< GAME STARTS! >>>>>\n",
      "Big or Small :Big\n",
      "How much you wanna bet ? - 500\n",
      "<<<<< ROLL THE DICE! >>>>>\n",
      "The points are [5, 1, 6] You win !\n",
      "You gained 500,you have 1600 now\n",
      "<<<<< GAME STARTS! >>>>>\n",
      "Big or Small :Big\n",
      "How much you wanna bet ? - 1000\n",
      "<<<<< ROLL THE DICE! >>>>>\n",
      "The points are [4, 2, 4] You lose !\n",
      "You lost 1000,you have 600 now\n",
      "<<<<< GAME STARTS! >>>>>\n",
      "Big or Small :Big\n",
      "How much you wanna bet ? - 500\n",
      "<<<<< ROLL THE DICE! >>>>>\n",
      "The points are [3, 3, 4] You lose !\n",
      "You lost 500,you have 100 now\n",
      "<<<<< GAME STARTS! >>>>>\n",
      "Big or Small :Big\n",
      "How much you wanna bet ? - 100\n",
      "<<<<< ROLL THE DICE! >>>>>\n",
      "The points are [3, 3, 5] You win !\n",
      "You gained 100,you have 200 now\n",
      "<<<<< GAME STARTS! >>>>>\n",
      "Big or Small :Big\n",
      "How much you wanna bet ? - 200\n",
      "<<<<< ROLL THE DICE! >>>>>\n",
      "The points are [2, 1, 4] You lose !\n",
      "You lost 200,you have 0 now\n",
      "GAME OVER\n"
     ]
    }
   ],
   "source": [
    "import random\n",
    "\n",
    "def roll_dice(numbers=3, points=None):   \n",
    "    print('<<<<< ROLL THE DICE! >>>>>')   \n",
    "    if points is None:  \n",
    "        points = []  \n",
    "    while numbers > 0:  \n",
    "        point = random.randrange(1,7)  \n",
    "        points.append(point)  \n",
    "        numbers = numbers - 1  \n",
    "    return points\n",
    "\n",
    "def roll_result(total):                                   \n",
    "    isBig = 11 <= total <=18                                \n",
    "    isSmall = 3 <= total <=10                               \n",
    "    if isBig:                                              \n",
    "        return 'Big'                                       \n",
    "    elif isSmall:                                         \n",
    "        return 'Small'\n",
    "    \n",
    "def start_game():  \n",
    "    your_money = 1000\n",
    "    while your_money > 0:\n",
    "        print('<<<<< GAME STARTS! >>>>>')  \n",
    "        choices = ['Big','Small']  \n",
    "        your_choice = input('Big or Small :')  \n",
    "        \n",
    "        if your_choice in choices:  \n",
    "            your_bet = int(input('How much you wanna bet ? - '))\n",
    "            points = roll_dice()  #得到列表\n",
    "            total = sum(points)  #得到列表的和\n",
    "            youWin = your_choice == roll_result(total)                                          \n",
    "            if youWin: \n",
    "                print('The points are',points,'You win !') \n",
    "                print('You gained {},you have {} now'.format(your_bet,your_money + your_bet))\n",
    "                your_money = your_money + your_bet\n",
    "            else:  \n",
    "                print('The points are',points,'You lose !')  \n",
    "                print('You lost {},you have {} now'.format(your_bet,your_money - your_bet))\n",
    "                your_money = your_money - your_bet\n",
    "        else:  \n",
    "            print('Invalid Words') \n",
    "    else:\n",
    "        print('GAME OVER')\n",
    "        \n",
    "start_game()"
   ]
  },
  {
   "cell_type": "markdown",
   "metadata": {},
   "source": [
    "#### 验证手机注册时手机号是否符合规则"
   ]
  },
  {
   "cell_type": "code",
   "execution_count": 1,
   "metadata": {},
   "outputs": [
    {
     "name": "stdout",
     "output_type": "stream",
     "text": [
      "Enter your number:17052345687\n",
      "Operator: CN_mobile\n"
     ]
    }
   ],
   "source": [
    "def number_test():\n",
    "    \n",
    "    while True:\n",
    "        number = input(\"Enter your number:\")\n",
    "        CN_mobile = [134,135,136,137,138,139,150,151,152,157,158,159,182,183,184,187,188,147,178,1705]\n",
    "        CN_union = [130,131,132,155,156,185,186,145,176,1709]\n",
    "        CN_telecom = [133,153,180,181,189,177,1700]\n",
    "        num_three = int(number[0:3])\n",
    "        num_four = int(number[0:4])\n",
    "                \n",
    "        if len(number) == 11:\n",
    "            if num_three in CN_mobile or num_four in CN_mobile:\n",
    "                print(\"Operator: CN_mobile\")\n",
    "                break\n",
    "            elif num_three in CN_union:\n",
    "                print(\"Operator: CN_union\")\n",
    "                break\n",
    "            elif num_three in CN_telecom:\n",
    "                print(\"Operator: CN_telecom\")\n",
    "                break\n",
    "            else:\n",
    "                print(\"No such a operator\")\n",
    "        else:\n",
    "            print(\"your number should be in 11 digits\")\n",
    "            \n",
    "number_test()"
   ]
  },
  {
   "cell_type": "code",
   "execution_count": null,
   "metadata": {
    "collapsed": true
   },
   "outputs": [],
   "source": []
  }
 ],
 "metadata": {
  "kernelspec": {
   "display_name": "Python 3",
   "language": "python",
   "name": "python3"
  },
  "language_info": {
   "codemirror_mode": {
    "name": "ipython",
    "version": 3
   },
   "file_extension": ".py",
   "mimetype": "text/x-python",
   "name": "python",
   "nbconvert_exporter": "python",
   "pygments_lexer": "ipython3",
   "version": "3.6.2"
  }
 },
 "nbformat": 4,
 "nbformat_minor": 2
}
